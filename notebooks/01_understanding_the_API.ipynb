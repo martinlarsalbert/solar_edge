{
 "cells": [
  {
   "cell_type": "markdown",
   "metadata": {},
   "source": [
    "# Understanding the API"
   ]
  },
  {
   "cell_type": "code",
   "execution_count": 46,
   "metadata": {},
   "outputs": [],
   "source": [
    "import os\n",
    "import requests\n",
    "import pandas as pd\n",
    "import matplotlib.pyplot as plt"
   ]
  },
  {
   "cell_type": "code",
   "execution_count": 3,
   "metadata": {},
   "outputs": [],
   "source": [
    "api_key=os.environ.get('APIKEY')\n",
    "site_id=os.environ.get('SITEID')"
   ]
  },
  {
   "cell_type": "markdown",
   "metadata": {},
   "source": [
    "## Site details"
   ]
  },
  {
   "cell_type": "code",
   "execution_count": 14,
   "metadata": {},
   "outputs": [],
   "source": [
    "url=f\"https://monitoringapi.solaredge.com/site/{site_id}/details?api_key={api_key}\""
   ]
  },
  {
   "cell_type": "code",
   "execution_count": 16,
   "metadata": {},
   "outputs": [],
   "source": [
    "response=requests.get(url)"
   ]
  },
  {
   "cell_type": "code",
   "execution_count": 20,
   "metadata": {},
   "outputs": [
    {
     "data": {
      "text/plain": [
       "{'details': {'id': 1927644,\n",
       "  'name': 'Martin Alexandersson',\n",
       "  'accountId': 113092,\n",
       "  'status': 'Active',\n",
       "  'peakPower': 9.0,\n",
       "  'lastUpdateTime': '2020-11-22',\n",
       "  'installationDate': '2020-11-04',\n",
       "  'ptoDate': None,\n",
       "  'notes': '',\n",
       "  'type': 'Optimizers & Inverters',\n",
       "  'location': {'country': 'Sweden',\n",
       "   'city': 'Hjälteby',\n",
       "   'address': 'SUNDSBY KILE 131',\n",
       "   'address2': '',\n",
       "   'zip': '471 72',\n",
       "   'timeZone': 'Europe/Stockholm',\n",
       "   'countryCode': 'SE'},\n",
       "  'primaryModule': {'manufacturerName': 'Suntech Power',\n",
       "   'modelName': 'STP320B-53/ZBE',\n",
       "   'maximumPower': 320.0,\n",
       "   'temperatureCoef': -0.38},\n",
       "  'uris': {'DETAILS': '/site/1927644/details',\n",
       "   'DATA_PERIOD': '/site/1927644/dataPeriod',\n",
       "   'OVERVIEW': '/site/1927644/overview'},\n",
       "  'publicSettings': {'isPublic': False}}}"
      ]
     },
     "execution_count": 20,
     "metadata": {},
     "output_type": "execute_result"
    }
   ],
   "source": [
    "response.json()"
   ]
  },
  {
   "cell_type": "code",
   "execution_count": 21,
   "metadata": {},
   "outputs": [],
   "source": [
    "## Site energy"
   ]
  },
  {
   "cell_type": "code",
   "execution_count": 51,
   "metadata": {},
   "outputs": [],
   "source": [
    "url=f\"https://monitoringapi.solaredge.com/site/{site_id}/energy?timeUnit=QUARTER_OF_AN_HOUR&endDate=2020-11-23&startDate=2020-11-21&api_key={api_key}\"\n",
    "response=requests.get(url)\n",
    "data_dict = response.json()\n",
    "df = pd.DataFrame(data=data_dict['energy']['values'])\n",
    "df.set_index('date', inplace=True)\n",
    "df.dropna(inplace=True)\n",
    "unit = data_dict['energy']['unit']"
   ]
  },
  {
   "cell_type": "code",
   "execution_count": 52,
   "metadata": {},
   "outputs": [
    {
     "data": {
      "text/plain": [
       "Text(0, 0.5, 'Wh')"
      ]
     },
     "execution_count": 52,
     "metadata": {},
     "output_type": "execute_result"
    },
    {
     "data": {
      "image/png": "[encoded data removed]",
      "text/plain": [
       "<Figure size 432x288 with 1 Axes>"
      ]
     },
     "metadata": {
      "needs_background": "light"
     },
     "output_type": "display_data"
    }
   ],
   "source": [
    "fig,ax=plt.subplots()\n",
    "df.plot(y='value',style='.-', ax=ax)\n",
    "ax.grid(True)\n",
    "ax.set_ylabel(unit)"
   ]
  }
 ],
 "metadata": {
  "kernelspec": {
   "display_name": "Python 3",
   "language": "python",
   "name": "python3"
  },
  "language_info": {
   "codemirror_mode": {
    "name": "ipython",
    "version": 3
   },
   "file_extension": ".py",
   "mimetype": "text/x-python",
   "name": "python",
   "nbconvert_exporter": "python",
   "pygments_lexer": "ipython3",
   "version": "3.6.5"
  }
 },
 "nbformat": 4,
 "nbformat_minor": 4
}
